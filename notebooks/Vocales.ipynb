{
 "cells": [
  {
   "cell_type": "markdown",
   "metadata": {},
   "source": [
    "# Clasificador de Vocales\n",
    "El presente Notebook está basado en el proyecto final que se\n",
    "entregó en la materia de Teoría de Señales y Comunicaciones.\n",
    "En él se clasificó las 5 vocales con audios de 5 integrantes\n",
    "que conformaban el equipo.\n",
    "\n",
    "Los audios están en un formato '.wav' con una duración de 1.5\n",
    "segundos a una frecuencia de muestreo de 8000 Hertz. Aunque,\n",
    "después de grabar, los audios resultaron a 1.44 segundos.\n",
    "\n",
    "## Procesamiento de datos\n",
    "La entrada que recibirá el modelo estará compuesta de la fft\n",
    "del audio. Aunque, el hecho de estar compuesto de números que\n",
    "son imaginarios hace que solo conservemos la magnitud de las\n",
    "frecuencias, es decir, el proceso sería:\n",
    "\n",
    "- Lectura del audio\n",
    "- FFT del audio\n",
    "- Espectro de magnitud\n",
    "- Tomamos solo la parte positiva"
   ]
  },
  {
   "cell_type": "code",
   "execution_count": 1,
   "metadata": {
    "pycharm": {
     "name": "#%%\n"
    }
   },
   "outputs": [
    {
     "data": {
      "text/plain": "<Figure size 432x288 with 1 Axes>",
      "image/png": "[encoded data removed]"
     },
     "metadata": {
      "needs_background": "light"
     },
     "output_type": "display_data"
    }
   ],
   "source": [
    "from scipy.io import wavfile\n",
    "import numpy as np\n",
    "import pandas as pd\n",
    "import matplotlib.pyplot as plt\n",
    "\n",
    "nombres = ['Alberto', 'Yosafat', 'Joksan', 'Alonso', 'Pablo']\n",
    "vocales = ['a', 'e', 'i', 'o', 'u']\n",
    "rows = 133\n",
    "next_pow = 16384 # Potencia del 2\n",
    "mitad = int(next_pow/2)\n",
    "dataset = np.zeros(shape=(rows, mitad))\n",
    "classes = [None] * rows\n",
    "magnitud = np.zeros(shape=(1, mitad))\n",
    "k = 0\n",
    "\n",
    "for name in nombres:\n",
    "    for i in range(0, 10):\n",
    "        for vowel in vocales:\n",
    "            archivo = name + '-' + vowel + '-' + str(i)\n",
    "\n",
    "            try:\n",
    "                fs, muestra = wavfile.read('../data/' + archivo + '.wav')\n",
    "            except FileNotFoundError:\n",
    "                continue\n",
    "\n",
    "            fourier = np.fft.fft(muestra, n=next_pow)\n",
    "            magnitud = np.abs(fourier) ** 2 / next_pow # Normalizado\n",
    "            classes[k] = vowel\n",
    "            dataset[k, :] = magnitud[0:mitad]\n",
    "            k = k + 1\n",
    "\n",
    "#Gráfica de cómo se ve el espectro de magnitud partido\n",
    "f = np.arange(0, next_pow - 1) * (8000/next_pow) / 10\n",
    "plt.xlabel('Frecuencia')\n",
    "plt.ylabel('Magnitud')\n",
    "plt.title('último espectro de magnitud')\n",
    "plt.plot(f[0:mitad], magnitud[0:mitad])\n",
    "\n",
    "#Obtenemos las labels y guardamos dataset y labels\n",
    "serie = pd.Series(classes)\n",
    "dataframe = pd.get_dummies(serie)\n",
    "labels = dataframe.values\n",
    "np.save('../models/dataset.npy', dataset)\n",
    "np.save('../models/labels.npy', labels)"
   ]
  },
  {
   "cell_type": "markdown",
   "source": [
    "## PCA\n",
    "Ahora que tenemos el dataset en forma de matriz de Numpy,\n",
    "sabemos que muchas de las frecuencias se van a 0, por lo\n",
    "que una reducción en el tamaño del dataset vendría muy bien."
   ],
   "metadata": {
    "collapsed": false
   }
  },
  {
   "cell_type": "code",
   "execution_count": 2,
   "outputs": [
    {
     "name": "stdout",
     "output_type": "stream",
     "text": [
      "(133, 133)\n"
     ]
    }
   ],
   "source": [
    "from sklearn.decomposition import PCA\n",
    "pca_obj = PCA()\n",
    "data = pca_obj.fit_transform(dataset)\n",
    "print(data.shape)"
   ],
   "metadata": {
    "collapsed": false,
    "pycharm": {
     "name": "#%%\n"
    }
   }
  },
  {
   "cell_type": "markdown",
   "source": [
    "## Árbol de decisión\n",
    "Como el dataset no es algo tan grande, podemos clasificarlo\n",
    "mediante un árbol."
   ],
   "metadata": {
    "collapsed": false
   }
  },
  {
   "cell_type": "code",
   "execution_count": 3,
   "outputs": [
    {
     "name": "stdout",
     "output_type": "stream",
     "text": [
      "MAE: 15.064705882352943\n",
      "\n",
      "MSE: 0.12352941176470589\n",
      "\n"
     ]
    }
   ],
   "source": [
    "from sklearn.tree import DecisionTreeClassifier\n",
    "from sklearn.model_selection import train_test_split\n",
    "from sklearn.metrics import mean_absolute_error, mean_squared_error\n",
    "\n",
    "split_dataset = train_test_split(data, labels)\n",
    "train_data = split_dataset[0]\n",
    "test_data = split_dataset[1]\n",
    "train_labels = split_dataset[2]\n",
    "test_labels = split_dataset[3]\n",
    "\n",
    "tree_obj = DecisionTreeClassifier()\n",
    "tree_obj.fit(train_data, train_labels)\n",
    "\n",
    "predictions = tree_obj.predict(test_data)\n",
    "MAE = mean_absolute_error(predictions, test_labels)\n",
    "MSE = mean_squared_error(predictions, test_labels)\n",
    "\n",
    "print('MAE: {}\\n'.format(MAE))\n",
    "print('MSE: {}\\n'.format(MSE))"
   ],
   "metadata": {
    "collapsed": false,
    "pycharm": {
     "name": "#%%\n"
    }
   }
  },
  {
   "cell_type": "markdown",
   "source": [
    "# Pruebas con el modelo\n",
    "Ahora que tenemos el modelo listo, procedemos a probarlo"
   ],
   "metadata": {
    "collapsed": false
   }
  },
  {
   "cell_type": "code",
   "execution_count": null,
   "outputs": [],
   "source": [
    "fs = 8000\n",
    "duration = 1.44\n",
    "\n",
    "print('Grabando Audio')"
   ],
   "metadata": {
    "collapsed": false,
    "pycharm": {
     "name": "#%%\n"
    }
   }
  }
 ],
 "metadata": {
  "kernelspec": {
   "display_name": "Python 3 (ipykernel)",
   "language": "python",
   "name": "python3"
  },
  "language_info": {
   "codemirror_mode": {
    "name": "ipython",
    "version": 3
   },
   "file_extension": ".py",
   "mimetype": "text/x-python",
   "name": "python",
   "nbconvert_exporter": "python",
   "pygments_lexer": "ipython3",
   "version": "3.8.4"
  }
 },
 "nbformat": 4,
 "nbformat_minor": 1
}